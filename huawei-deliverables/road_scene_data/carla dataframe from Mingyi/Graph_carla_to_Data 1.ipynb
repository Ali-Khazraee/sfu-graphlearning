{
 "cells": [
  {
   "cell_type": "code",
   "execution_count": 1,
   "id": "45c4d973",
   "metadata": {},
   "outputs": [],
   "source": [
    "import pickle\n",
    "import pandas as pd\n",
    "import mysql.connector\n",
    "from scipy.spatial import distance\n",
    "import matplotlib.pyplot as plt\n",
    "import numpy as np"
   ]
  },
  {
   "cell_type": "code",
   "execution_count": 2,
   "id": "7adc5187",
   "metadata": {},
   "outputs": [],
   "source": [
    "def read_pkl_file(file_name):\n",
    "    with open(file_name, 'rb') as f:\n",
    "        data = pickle.load(f)\n",
    "    return data"
   ]
  },
  {
   "cell_type": "code",
   "execution_count": 3,
   "id": "1bb2a6ad",
   "metadata": {},
   "outputs": [],
   "source": [
    "def SceneGraphDataset_to_df(data):\n",
    "    graph_dict = dict()\n",
    "    scene_key = data.scene_graphs.keys()\n",
    "    for x in scene_key:\n",
    "        for key in data.scene_graphs[x].keys():\n",
    "            try:\n",
    "                graph = data.scene_graphs[x][key].g\n",
    "                edges = list(graph.edges(data=True, keys=True))\n",
    "                nodes = list(graph.nodes(data=True))\n",
    "                graph_dict[(x,key)] = (nodes,edges)\n",
    "            except Exception as e:\n",
    "                print(\"missing nodes or edges:\", str(e))\n",
    "    df = pd.DataFrame(graph_dict).transpose()\n",
    "    df.columns = ['Nodes', 'Edges']\n",
    "    return df     "
   ]
  },
  {
   "cell_type": "code",
   "execution_count": 4,
   "id": "155b9127",
   "metadata": {},
   "outputs": [],
   "source": [
    "def node_edge_extraction(pd_series):\n",
    "    nodes,edges = [],[]\n",
    "    for node in pd_series.Nodes:\n",
    "        nodes.append(node[0])\n",
    "    for edge in pd_series.Edges:\n",
    "        edges.append((edge[0],edge[1],edge[3]['label']))\n",
    "    return nodes,edges\n",
    "    "
   ]
  },
  {
   "cell_type": "code",
   "execution_count": 5,
   "id": "988abde2",
   "metadata": {},
   "outputs": [],
   "source": [
    "def drop_all_tables(d,cursor):\n",
    "    try:\n",
    "        for name in d.keys():\n",
    "            # Construct the table name\n",
    "            table_name = f\"table_{name}\"\n",
    "            \n",
    "            # Create the table\n",
    "            create_table_query = f\"\"\"\n",
    "            Drop table {table_name}\n",
    "            \"\"\"\n",
    "            cursor.execute(create_table_query)\n",
    "    except:\n",
    "        print('error')\n"
   ]
  },
  {
   "cell_type": "code",
   "execution_count": 6,
   "id": "d12e5ffc",
   "metadata": {},
   "outputs": [],
   "source": [
    "#load pickle file to dataframe\n",
    "file_name = '271_carla_scenegraphs.pkl'\n",
    "data = read_pkl_file(file_name)\n",
    "df = SceneGraphDataset_to_df(data)"
   ]
  },
  {
   "cell_type": "code",
   "execution_count": 9,
   "id": "46cdd949",
   "metadata": {},
   "outputs": [],
   "source": [
    "#process clean the dataframe\n",
    "df = df.reset_index()\n",
    "df['id'] = df.apply(lambda row: (row['level_0'], row['level_1']), axis=1)\n",
    "df = df.drop(columns =['level_0','level_1'])"
   ]
  },
  {
   "cell_type": "code",
   "execution_count": 10,
   "id": "78987926",
   "metadata": {},
   "outputs": [],
   "source": [
    "nodes_l = df['Nodes']\n",
    "new_nodes_l = []\n",
    "for i in range(len(nodes_l)):\n",
    "    l=[]\n",
    "    for x in nodes_l[i]:\n",
    "        l.append((x[0].name,x[1]['attr']))\n",
    "    new_nodes_l.append(l)\n",
    "df['Nodes']= new_nodes_l"
   ]
  },
  {
   "cell_type": "code",
   "execution_count": null,
   "id": "301297a8",
   "metadata": {},
   "outputs": [],
   "source": [
    "df['id']=df['id'].astype('str')\n",
    "df[df['id'].str.startswith('(0, 1779')]['Nodes'][46]"
   ]
  },
  {
   "cell_type": "code",
   "execution_count": null,
   "id": "7d78035c",
   "metadata": {},
   "outputs": [],
   "source": [
    "df[df['id'].str.startswith('(0, 1779')]['Edges'][46]"
   ]
  },
  {
   "cell_type": "code",
   "execution_count": 37,
   "id": "7d4e8a27",
   "metadata": {},
   "outputs": [],
   "source": [
    "#expand nodes\n",
    "df_nodes= df.explode('Nodes').reset_index(drop=True)\n",
    "df_nodes =df_nodes[['Nodes','id']]"
   ]
  },
  {
   "cell_type": "code",
   "execution_count": 38,
   "id": "5269849a",
   "metadata": {},
   "outputs": [],
   "source": [
    "extend_df = pd.DataFrame(df_nodes['Nodes'].apply(lambda x: pd.Series((x[0], *x[1].values()))))"
   ]
  },
  {
   "cell_type": "code",
   "execution_count": null,
   "id": "65c5b87e",
   "metadata": {},
   "outputs": [],
   "source": [
    "extend_df.columns = ['Name', 'velocity_abs','velocity','location','rotation','ang_velocity','name','lane_id','road_id','left_blinker_on','right_blinker_on','brake_light_on','lane_idx','orig_lane_idx','invading_lane']\n",
    "extend_df['id'] = df_nodes['id']\n",
    "extend_df = extend_df[~extend_df['Name'].isin(['Root Road', 'lane_left','lane_right','lane_middle'])]\n",
    "\n",
    "df_nodes = extend_df\n",
    "df_nodes['isEgo'] = 0\n",
    "df_nodes.loc[df_nodes['Name'].str.contains('ego'), 'isEgo'] = 1\n",
    "df_nodes[['Name','isEgo']]\n",
    "df_nodes['isEgo'] = df_nodes['isEgo'].map({0: False, 1: True})\n",
    "df_nodes = df_nodes.fillna(0)"
   ]
  },
  {
   "cell_type": "code",
   "execution_count": 85,
   "id": "0675496a",
   "metadata": {},
   "outputs": [],
   "source": [
    "ego_cars = df_nodes[df_nodes['isEgo']]\n",
    "ego_cars = ego_cars[['id','Name','velocity_abs','velocity','location','rotation']]"
   ]
  },
  {
   "cell_type": "code",
   "execution_count": 86,
   "id": "62ebcfff",
   "metadata": {},
   "outputs": [],
   "source": [
    "ndf= df_nodes.merge(ego_cars,on=['id'],suffixes=('', '_ego'))"
   ]
  },
  {
   "cell_type": "code",
   "execution_count": 87,
   "id": "7aea2dc3",
   "metadata": {},
   "outputs": [],
   "source": [
    "def calculate_distance(point1, point2):\n",
    "    return distance.euclidean(point1, point2)\n",
    "\n",
    "ndf['abs_distance'] = ndf.apply(lambda row: calculate_distance(row['location'], row['location_ego']), axis=1)"
   ]
  },
  {
   "cell_type": "code",
   "execution_count": 89,
   "id": "ffc57261",
   "metadata": {},
   "outputs": [],
   "source": [
    "ndf['velocity_diff']= ndf['velocity_abs'] -  ndf['velocity_abs_ego']"
   ]
  },
  {
   "cell_type": "code",
   "execution_count": 91,
   "id": "06ad84a7",
   "metadata": {},
   "outputs": [],
   "source": [
    "ndf.to_csv('df_nodes.csv', index=False)"
   ]
  },
  {
   "cell_type": "code",
   "execution_count": 28,
   "id": "93eb9f30",
   "metadata": {},
   "outputs": [
    {
     "name": "stderr",
     "output_type": "stream",
     "text": [
      "/var/folders/n_/8gt809p93q5bs3ts1z8by0s00000gn/T/ipykernel_1945/3920807546.py:2: SettingWithCopyWarning: \n",
      "A value is trying to be set on a copy of a slice from a DataFrame.\n",
      "Try using .loc[row_indexer,col_indexer] = value instead\n",
      "\n",
      "See the caveats in the documentation: https://pandas.pydata.org/pandas-docs/stable/user_guide/indexing.html#returning-a-view-versus-a-copy\n",
      "  n_node_df['car_id']  = n_node_df.apply(lambda row: str((row['Name'], row['id'])), axis=1)\n"
     ]
    }
   ],
   "source": [
    "n_node_df =ndf[['Name','name','velocity_abs','abs_velocity_diff','location','abs_distance','lane_id','road_id','id','isEgo','rotation']]\n",
    "n_node_df['car_id']  = n_node_df.apply(lambda row: str((row['Name'], row['id'])), axis=1)"
   ]
  },
  {
   "cell_type": "code",
   "execution_count": 24,
   "id": "a1e12ebb",
   "metadata": {},
   "outputs": [
    {
     "data": {
      "text/plain": [
       "\"df_edges = df_edges[~(df_edges['Node_1'].str.contains('lane') | df_edges['Node_2'].str.contains('lane'))]\\ndf_edges = df_edges[~(df_edges['Node_1'].str.contains('Root') | df_edges['Node_2'].str.contains('Root'))]\\n\""
      ]
     },
     "execution_count": 24,
     "metadata": {},
     "output_type": "execute_result"
    }
   ],
   "source": [
    "df_edges =  df[['Edges','id']]\n",
    "df_edges= df_edges.explode('Edges').reset_index(drop=True)\n",
    "df_edges[['Node_1', 'Node_2', 'value', 'label']] = df_edges['Edges'].apply(lambda x: pd.Series((x[0].name, x[1].name, x[3]['value'], x[3]['label'])))\n",
    "df_edges.drop(['Edges'], axis=1, inplace=True)\n",
    "#filter only cars\n",
    "'''df_edges = df_edges[~(df_edges['Node_1'].str.contains('lane') | df_edges['Node_2'].str.contains('lane'))]\n",
    "df_edges = df_edges[~(df_edges['Node_1'].str.contains('Root') | df_edges['Node_2'].str.contains('Root'))]\n",
    "'''"
   ]
  },
  {
   "cell_type": "code",
   "execution_count": 29,
   "id": "93cbb6eb",
   "metadata": {},
   "outputs": [
    {
     "data": {
      "text/plain": [
       "array(['isIn', 'near_coll', 'atDRearOf', 'toLeftOf', 'super_near',\n",
       "       'inDFrontOf', 'toRightOf', 'very_near', 'atSRearOf', 'inSFrontOf',\n",
       "       'near', 'visible'], dtype=object)"
      ]
     },
     "execution_count": 29,
     "metadata": {},
     "output_type": "execute_result"
    }
   ],
   "source": [
    "df_edges['label'].unique()"
   ]
  },
  {
   "cell_type": "code",
   "execution_count": 33,
   "id": "b3881289",
   "metadata": {},
   "outputs": [],
   "source": [
    "df_edges[df_edges['label']=='isIn'].to_csv('isIn.csv')"
   ]
  },
  {
   "cell_type": "code",
   "execution_count": 18,
   "id": "476b81e9",
   "metadata": {},
   "outputs": [],
   "source": [
    "df_edges['near_level'] = 0 \n",
    "df_edges.loc[df_edges['label'] == 'near_coll', 'near_level'] = 5\n",
    "df_edges.loc[df_edges['label'] == 'super_near', 'near_level'] = 4\n",
    "df_edges.loc[df_edges['label'] == 'very_near', 'near_level'] = 3\n",
    "df_edges.loc[df_edges['label'] == 'near', 'near_level'] = 2\n",
    "df_edges.loc[df_edges['label'] == 'visible', 'near_level'] = 1"
   ]
  },
  {
   "cell_type": "code",
   "execution_count": 21,
   "id": "f5a59d3b",
   "metadata": {},
   "outputs": [],
   "source": [
    "procees_df = df_edges\n",
    "procees_df=procees_df.drop('value',axis=1)\n",
    "grouped = procees_df.groupby('label')\n",
    "table_df_dict = dict()\n",
    "for group_name, group_df in grouped:\n",
    "    table_df_dict[group_name] = group_df\n",
    "    "
   ]
  },
  {
   "cell_type": "code",
   "execution_count": 22,
   "id": "187e2258",
   "metadata": {},
   "outputs": [
    {
     "data": {
      "text/plain": [
       "dict_keys(['atDRearOf', 'atSRearOf', 'inDFrontOf', 'inSFrontOf', 'isIn', 'near', 'near_coll', 'super_near', 'toLeftOf', 'toRightOf', 'very_near', 'visible'])"
      ]
     },
     "execution_count": 22,
     "metadata": {},
     "output_type": "execute_result"
    }
   ],
   "source": [
    "#dictionary stores the value of tables\n",
    "table_df_dict.keys()"
   ]
  },
  {
   "cell_type": "code",
   "execution_count": 34,
   "id": "26906e02",
   "metadata": {},
   "outputs": [
    {
     "name": "stderr",
     "output_type": "stream",
     "text": [
      "/var/folders/n_/8gt809p93q5bs3ts1z8by0s00000gn/T/ipykernel_1945/3703168377.py:1: SettingWithCopyWarning: \n",
      "A value is trying to be set on a copy of a slice from a DataFrame.\n",
      "Try using .loc[row_indexer,col_indexer] = value instead\n",
      "\n",
      "See the caveats in the documentation: https://pandas.pydata.org/pandas-docs/stable/user_guide/indexing.html#returning-a-view-versus-a-copy\n",
      "  n_node_df['Index'] = n_node_df.reset_index().index\n",
      "/var/folders/n_/8gt809p93q5bs3ts1z8by0s00000gn/T/ipykernel_1945/3703168377.py:2: SettingWithCopyWarning: \n",
      "A value is trying to be set on a copy of a slice from a DataFrame.\n",
      "Try using .loc[row_indexer,col_indexer] = value instead\n",
      "\n",
      "See the caveats in the documentation: https://pandas.pydata.org/pandas-docs/stable/user_guide/indexing.html#returning-a-view-versus-a-copy\n",
      "  n_node_df[['scene_id', 'frame_id']] = pd.DataFrame(n_node_df['id'].tolist(), index=n_node_df.index)\n",
      "/var/folders/n_/8gt809p93q5bs3ts1z8by0s00000gn/T/ipykernel_1945/3703168377.py:2: SettingWithCopyWarning: \n",
      "A value is trying to be set on a copy of a slice from a DataFrame.\n",
      "Try using .loc[row_indexer,col_indexer] = value instead\n",
      "\n",
      "See the caveats in the documentation: https://pandas.pydata.org/pandas-docs/stable/user_guide/indexing.html#returning-a-view-versus-a-copy\n",
      "  n_node_df[['scene_id', 'frame_id']] = pd.DataFrame(n_node_df['id'].tolist(), index=n_node_df.index)\n",
      "/var/folders/n_/8gt809p93q5bs3ts1z8by0s00000gn/T/ipykernel_1945/3703168377.py:4: SettingWithCopyWarning: \n",
      "A value is trying to be set on a copy of a slice from a DataFrame.\n",
      "Try using .loc[row_indexer,col_indexer] = value instead\n",
      "\n",
      "See the caveats in the documentation: https://pandas.pydata.org/pandas-docs/stable/user_guide/indexing.html#returning-a-view-versus-a-copy\n",
      "  ego_df['Index'] = ego_df.reset_index().index\n",
      "/var/folders/n_/8gt809p93q5bs3ts1z8by0s00000gn/T/ipykernel_1945/3703168377.py:6: SettingWithCopyWarning: \n",
      "A value is trying to be set on a copy of a slice from a DataFrame.\n",
      "Try using .loc[row_indexer,col_indexer] = value instead\n",
      "\n",
      "See the caveats in the documentation: https://pandas.pydata.org/pandas-docs/stable/user_guide/indexing.html#returning-a-view-versus-a-copy\n",
      "  car_df['Index'] = car_df.reset_index().index\n"
     ]
    }
   ],
   "source": [
    "n_node_df['Index'] = n_node_df.reset_index().index\n",
    "n_node_df[['scene_id', 'frame_id']] = pd.DataFrame(n_node_df['id'].tolist(), index=n_node_df.index)\n",
    "ego_df =  n_node_df[n_node_df['Name']=='ego car']\n",
    "ego_df['Index'] = ego_df.reset_index().index\n",
    "car_df = n_node_df[n_node_df['Name']!='ego car']\n",
    "car_df['Index'] = car_df.reset_index().index"
   ]
  },
  {
   "cell_type": "code",
   "execution_count": null,
   "id": "6e9f9915",
   "metadata": {},
   "outputs": [],
   "source": [
    "#create connection to database\n",
    "database_name = 'test'\n",
    "connection = mysql.connector.connect(\n",
    "    host=\"localhost\",\n",
    "    user=\"root\",\n",
    "    password=\"\",\n",
    "    database=database_name\n",
    ")\n",
    "cursor = connection.cursor()"
   ]
  },
  {
   "cell_type": "code",
   "execution_count": 470,
   "id": "400f2067",
   "metadata": {},
   "outputs": [],
   "source": [
    "#table for cars\n",
    "create_table_query = \"\"\"\n",
    "CREATE TABLE cars (\n",
    "    car_id INT NOT NULL,\n",
    "    velocity_abs FLOAT,\n",
    "    name VARCHAR(100),\n",
    "    lane_id FLOAT,\n",
    "    road_id FLOAT,\n",
    "    PRIMARY KEY (car_id)\n",
    ");\n",
    "\"\"\"\n",
    "cursor.execute(create_table_query)"
   ]
  },
  {
   "cell_type": "code",
   "execution_count": 471,
   "id": "17c2536c",
   "metadata": {},
   "outputs": [],
   "source": [
    "#table for ego cars\n",
    "create_table_query = \"\"\"\n",
    "CREATE TABLE ego_cars (\n",
    "    car_id INT NOT NULL,\n",
    "    velocity_abs FLOAT,\n",
    "    name VARCHAR(100),\n",
    "    lane_id FLOAT,\n",
    "    road_id FLOAT,\n",
    "    PRIMARY KEY (car_id)\n",
    ");\n",
    "\"\"\"\n",
    "cursor.execute(create_table_query)"
   ]
  },
  {
   "cell_type": "code",
   "execution_count": 479,
   "id": "d512c66a",
   "metadata": {},
   "outputs": [
    {
     "name": "stdout",
     "output_type": "stream",
     "text": [
      "Table table_atDRearOf created successfully.\n",
      "Table table_atSRearOf created successfully.\n",
      "Table table_inDFrontOf created successfully.\n",
      "Table table_inSFrontOf created successfully.\n",
      "Table table_isIn created successfully.\n",
      "Table table_toLeftOf created successfully.\n",
      "Table table_toRightOf created successfully.\n",
      "Table table_visible created successfully.\n"
     ]
    }
   ],
   "source": [
    "for name in t_table_df_dict.keys():\n",
    "    if 'near' not in name:\n",
    "        # Construct the table name\n",
    "        table_name = f\"table_{name}\"\n",
    "        # Create the table\n",
    "        create_table_query = f\"\"\"\n",
    "        CREATE TABLE {table_name} (\n",
    "            ego_car_id INT,\n",
    "            car_id INT,\n",
    "            PRIMARY KEY (ego_car_id, car_id),\n",
    "            FOREIGN KEY(ego_car_id)  REFERENCES ego_cars(car_id),\n",
    "            FOREIGN KEY(car_id)  REFERENCES cars(car_id)\n",
    "        )\n",
    "        \"\"\"\n",
    "        cursor.execute(create_table_query)\n",
    "        print(f\"Table {table_name} created successfully.\")\n",
    "\n",
    "connection.commit()"
   ]
  },
  {
   "cell_type": "code",
   "execution_count": 480,
   "id": "53657c4c",
   "metadata": {},
   "outputs": [
    {
     "name": "stdout",
     "output_type": "stream",
     "text": [
      "Table table_visible created successfully.\n"
     ]
    }
   ],
   "source": [
    "create_table_query = f\"\"\"\n",
    "CREATE TABLE near (\n",
    "    ego_car_id INT,\n",
    "    car_id INT,\n",
    "    abs_distance float,\n",
    "    near_level INT,\n",
    "    PRIMARY KEY (ego_car_id, car_id),\n",
    "    FOREIGN KEY(ego_car_id)  REFERENCES ego_cars(car_id),\n",
    "    FOREIGN KEY(car_id)  REFERENCES cars(car_id)\n",
    ")\n",
    "\"\"\"\n",
    "cursor.execute(create_table_query)\n",
    "print(f\"Table {table_name} created successfully.\")"
   ]
  },
  {
   "cell_type": "code",
   "execution_count": 362,
   "id": "da515572",
   "metadata": {},
   "outputs": [],
   "source": [
    "'''l = car_df['id'].unique()[0:10]\n",
    "t_car_df = car_df[car_df['id'].isin(l)]\n",
    "t_ego_car_df = ego_df[ego_df['id'].isin(l)]\n",
    "\n",
    "t_df_edge = df_edges[df_edges['id'].isin(l)]\n",
    "t_df_edge =t_df_edge[t_df_edge['Node_1']=='ego car']\n",
    "merged_df = pd.merge(t_df_edge, df_nodes[['Name','id','lane_id']], left_on=['id','Node_1'], right_on= ['id','Name'],suffixes=('', '_Node_1'))\n",
    "merged_df = pd.merge(merged_df, df_nodes[['Name','id','lane_id']], left_on=['id','Node_2'], right_on= ['id','Name'],suffixes=('', '_Node_2'))\n",
    "merged_df['lane_id_diff'] = merged_df.apply(lambda row: row['lane_id'] -row['lane_id_Node_2'], axis=1)\n",
    "t_df_edge = merged_df[['id','Node_1','Node_2','label','lane_id_diff']]\n",
    "t_df_edge =pd.merge(t_df_edge,t_car_df[['id','Name','abs_velocity_diff','abs_distance']], left_on=['id','Node_2'],right_on=['id','Name'])\n",
    "t_df_edge['near_level'] = 0 \n",
    "t_df_edge.loc[t_df_edge['label'] == 'near_coll', 'near_level'] = 5\n",
    "t_df_edge.loc[t_df_edge['label'] == 'super_near', 'near_level'] = 4\n",
    "t_df_edge.loc[t_df_edge['label'] == 'very_near', 'near_level'] = 3\n",
    "t_df_edge.loc[t_df_edge['label'] == 'near', 'near_level'] = 2\n",
    "t_df_edge.loc[t_df_edge['label'] == 'visible', 'near_level'] = 1\n",
    "'''"
   ]
  },
  {
   "cell_type": "code",
   "execution_count": 476,
   "id": "42f6e79b",
   "metadata": {},
   "outputs": [],
   "source": [
    "l = car_df['id'].unique()[0:10]\n",
    "'''t_car_df = car_df[car_df['id'].isin(l)]\n",
    "t_ego_car_df = ego_df[ego_df['id'].isin(l)]\n",
    "t_df_edge = df_edges[df_edges['id'].isin(l)]'''\n",
    "\n",
    "t_car_df= car_df\n",
    "t_ego_car_df = ego_df\n",
    "t_df_edge = df_edges\n",
    "\n",
    "t_df_edge =t_df_edge[t_df_edge['Node_1']=='ego car']\n",
    "merged_df = pd.merge(t_df_edge, df_nodes[['Name','id','lane_id']], left_on=['id','Node_1'], right_on= ['id','Name'],suffixes=('', '_Node_1'))\n",
    "merged_df = pd.merge(merged_df, df_nodes[['Name','id','lane_id']], left_on=['id','Node_2'], right_on= ['id','Name'],suffixes=('', '_Node_2'))\n",
    "merged_df['lane_id_diff'] = merged_df.apply(lambda row: row['lane_id'] -row['lane_id_Node_2'], axis=1)\n",
    "t_df_edge = merged_df[['id','Node_1','Node_2','label','lane_id_diff']]\n",
    "t_df_edge =pd.merge(t_df_edge,t_car_df[['id','Name','abs_velocity_diff','abs_distance']], left_on=['id','Node_2'],right_on=['id','Name'])\n",
    "t_df_edge['near_level'] = 0 \n",
    "t_df_edge.loc[t_df_edge['label'] == 'near_coll', 'near_level'] = 5\n",
    "t_df_edge.loc[t_df_edge['label'] == 'super_near', 'near_level'] = 4\n",
    "t_df_edge.loc[t_df_edge['label'] == 'very_near', 'near_level'] = 3\n",
    "t_df_edge.loc[t_df_edge['label'] == 'near', 'near_level'] = 2\n",
    "t_df_edge.loc[t_df_edge['label'] == 'visible', 'near_level'] = 1\n"
   ]
  },
  {
   "cell_type": "code",
   "execution_count": null,
   "id": "1aee7494",
   "metadata": {},
   "outputs": [],
   "source": [
    "procees_df = t_df_edge\n",
    "grouped = procees_df.groupby('label')\n",
    "t_table_df_dict = dict()\n",
    "for group_name, group_df in grouped:\n",
    "    t_table_df_dict[group_name] = group_df\n",
    "    "
   ]
  },
  {
   "cell_type": "code",
   "execution_count": 478,
   "id": "6bf5fea4",
   "metadata": {},
   "outputs": [
    {
     "data": {
      "text/plain": [
       "dict_keys(['atDRearOf', 'atSRearOf', 'inDFrontOf', 'inSFrontOf', 'isIn', 'near', 'near_coll', 'super_near', 'toLeftOf', 'toRightOf', 'very_near', 'visible'])"
      ]
     },
     "execution_count": 478,
     "metadata": {},
     "output_type": "execute_result"
    }
   ],
   "source": [
    "t_table_df_dict.keys()"
   ]
  },
  {
   "cell_type": "code",
   "execution_count": 481,
   "id": "d56e2677",
   "metadata": {},
   "outputs": [],
   "source": [
    "#load data into the cars table\n",
    "for _, row in t_car_df.iterrows():\n",
    "    query = \"INSERT INTO cars (car_id, velocity_abs,name,lane_id,road_id) VALUES (%s,%s,%s,%s,%s)\"\n",
    "    values = (row['Index'],row['velocity_abs'],row['Name'],row['lane_id'],row['road_id'])\n",
    "    cursor.execute(query, values)\n",
    "\n",
    "connection.commit()"
   ]
  },
  {
   "cell_type": "code",
   "execution_count": 482,
   "id": "b4781003",
   "metadata": {},
   "outputs": [],
   "source": [
    "#load data into the cars table\n",
    "for _, row in t_ego_car_df.iterrows():\n",
    "    query = \"INSERT INTO ego_cars (car_id, velocity_abs,name,lane_id,road_id) VALUES (%s,%s,%s,%s,%s)\"\n",
    "    values = (row['Index'],row['velocity_abs'],row['Name'],row['lane_id'],row['road_id'])\n",
    "    cursor.execute(query, values)\n",
    "\n",
    "connection.commit()"
   ]
  },
  {
   "cell_type": "code",
   "execution_count": 36,
   "id": "85191ed8",
   "metadata": {},
   "outputs": [
    {
     "ename": "NameError",
     "evalue": "name 't_table_df_dict' is not defined",
     "output_type": "error",
     "traceback": [
      "\u001b[0;31m---------------------------------------------------------------------------\u001b[0m",
      "\u001b[0;31mNameError\u001b[0m                                 Traceback (most recent call last)",
      "Cell \u001b[0;32mIn[36], line 1\u001b[0m\n\u001b[0;32m----> 1\u001b[0m t_table_df_dict\u001b[39m.\u001b[39mkeys()\n",
      "\u001b[0;31mNameError\u001b[0m: name 't_table_df_dict' is not defined"
     ]
    }
   ],
   "source": [
    "t_table_df_dict.keys()"
   ]
  },
  {
   "cell_type": "code",
   "execution_count": null,
   "id": "88764246",
   "metadata": {},
   "outputs": [],
   "source": [
    "for name in t_table_df_dict.keys():\n",
    "    #insert the value\n",
    "    if 'near' not in name and 'visible' not in name:\n",
    "        c_df = t_table_df_dict[name]\n",
    "        \n",
    "        merged_df = pd.merge(c_df, t_car_df[['id', 'Name','Index']], left_on=['id', 'Node_2'],right_on=['id', 'Name'],suffixes=('','_car'))\n",
    "        merged_df = pd.merge(merged_df, t_ego_car_df[['id', 'Name','Index']], left_on=['id', 'Node_1'],right_on=['id', 'Name'],suffixes=('','_ego'))\n",
    "        for index, row in merged_df.iterrows():\n",
    "            try:\n",
    "                table_name = \"table_\" + row['label']\n",
    "                insert_query = \"INSERT INTO \" + table_name + \" (ego_car_id, car_id \" + \") VALUES (%s, %s)\"\n",
    "                values = (str(row['Index_ego']), str(row['Index']))\n",
    "                cursor.execute(insert_query, values)\n",
    "            except:\n",
    "                print('error')\n",
    "    \n",
    "connection.commit()"
   ]
  },
  {
   "cell_type": "code",
   "execution_count": 491,
   "id": "d539044d",
   "metadata": {},
   "outputs": [],
   "source": [
    "for name in t_table_df_dict.keys():\n",
    "    #insert the value\n",
    "    if 'near' in name or 'visible' in name:\n",
    "        c_df = t_table_df_dict[name]\n",
    "        merged_df = pd.merge(c_df, t_car_df[['id', 'Name','Index']], left_on=['id', 'Node_2'],right_on=['id', 'Name'],suffixes=('','_car'))\n",
    "        merged_df = pd.merge(merged_df, t_ego_car_df[['id', 'Name','Index']], left_on=['id', 'Node_1'],right_on=['id', 'Name'],suffixes=('','_ego'))\n",
    "        table_name = \"near\"\n",
    "        for index, row in merged_df.iterrows():\n",
    "            try:\n",
    "                insert_query = \"INSERT INTO \" + table_name + \" (ego_car_id, car_id, \" + \"abs_distance\" + \", \" + \"near_level\" + \") VALUES (%s, %s, %s, %s)\"\n",
    "                values = (str(row['Index_ego']), str(row['Index']), row['abs_velocity_diff'], row['near_level'])\n",
    "                cursor.execute(insert_query, values)\n",
    "            except:\n",
    "                print('error')\n",
    "\n",
    "connection.commit()"
   ]
  }
 ],
 "metadata": {
  "kernelspec": {
   "display_name": "Python 3 (ipykernel)",
   "language": "python",
   "name": "python3"
  },
  "language_info": {
   "codemirror_mode": {
    "name": "ipython",
    "version": 3
   },
   "file_extension": ".py",
   "mimetype": "text/x-python",
   "name": "python",
   "nbconvert_exporter": "python",
   "pygments_lexer": "ipython3",
   "version": "3.10.10"
  }
 },
 "nbformat": 4,
 "nbformat_minor": 5
}
